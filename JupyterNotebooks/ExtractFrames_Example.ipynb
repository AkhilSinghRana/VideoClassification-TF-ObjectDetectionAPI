{
 "cells": [
  {
   "cell_type": "markdown",
   "metadata": {},
   "source": [
    "# Exampele notebook showing how the frames can be extracted from the video\n",
    "\n",
    "## Import all Dependencies"
   ]
  },
  {
   "cell_type": "code",
   "execution_count": 1,
   "metadata": {},
   "outputs": [],
   "source": [
    "from util import preprocessing\n",
    "import sys\n",
    "sys.path.append(\"..\")\n",
    "import options\n",
    "sys.argv=['']; del sys\n",
    "\n"
   ]
  },
  {
   "cell_type": "markdown",
   "metadata": {},
   "source": [
    "### Create Required arguments for the helper functions in util\n"
   ]
  },
  {
   "cell_type": "code",
   "execution_count": 2,
   "metadata": {},
   "outputs": [],
   "source": [
    "args = options.parseArguments()\n",
    "\n",
    "# define the filename and folder your want to save the frames\n",
    "file_name = \"/home/akhil/Videos/20190401_211907_NF.mp4\"\n",
    "output_dir = \"../UnlabelledFrames\"\n"
   ]
  },
  {
   "cell_type": "markdown",
   "metadata": {},
   "source": [
    "### Start Extracting frames from the video in filename above!\n"
   ]
  },
  {
   "cell_type": "code",
   "execution_count": 3,
   "metadata": {},
   "outputs": [
    {
     "name": "stdout",
     "output_type": "stream",
     "text": [
      "Creating frame ...../UnlabelledFrames/20190401_211907_NF_frame_0.jpg\n",
      "Creating frame ...../UnlabelledFrames/20190401_211907_NF_frame_1.jpg\n",
      "Creating frame ...../UnlabelledFrames/20190401_211907_NF_frame_2.jpg\n",
      "Creating frame ...../UnlabelledFrames/20190401_211907_NF_frame_3.jpg\n",
      "Creating frame ...../UnlabelledFrames/20190401_211907_NF_frame_4.jpg\n",
      "Creating frame ...../UnlabelledFrames/20190401_211907_NF_frame_5.jpg\n",
      "Creating frame ...../UnlabelledFrames/20190401_211907_NF_frame_6.jpg\n",
      "Creating frame ...../UnlabelledFrames/20190401_211907_NF_frame_7.jpg\n",
      "Creating frame ...../UnlabelledFrames/20190401_211907_NF_frame_8.jpg\n",
      "Creating frame ...../UnlabelledFrames/20190401_211907_NF_frame_9.jpg\n",
      "Creating frame ...../UnlabelledFrames/20190401_211907_NF_frame_10.jpg\n",
      "Creating frame ...../UnlabelledFrames/20190401_211907_NF_frame_11.jpg\n",
      "Creating frame ...../UnlabelledFrames/20190401_211907_NF_frame_12.jpg\n"
     ]
    },
    {
     "ename": "KeyboardInterrupt",
     "evalue": "",
     "output_type": "error",
     "traceback": [
      "\u001b[0;31m---------------------------------------------------------------------------\u001b[0m",
      "\u001b[0;31mKeyboardInterrupt\u001b[0m                         Traceback (most recent call last)",
      "\u001b[0;32m<ipython-input-3-fe585ca2135f>\u001b[0m in \u001b[0;36m<module>\u001b[0;34m\u001b[0m\n\u001b[0;32m----> 1\u001b[0;31m \u001b[0mpreprocessing\u001b[0m\u001b[0;34m.\u001b[0m\u001b[0mextractVideoFrames\u001b[0m\u001b[0;34m(\u001b[0m\u001b[0mfilename\u001b[0m\u001b[0;34m=\u001b[0m\u001b[0mfile_name\u001b[0m\u001b[0;34m,\u001b[0m\u001b[0moutput_folder\u001b[0m\u001b[0;34m=\u001b[0m\u001b[0moutput_dir\u001b[0m\u001b[0;34m)\u001b[0m\u001b[0;34m\u001b[0m\u001b[0;34m\u001b[0m\u001b[0m\n\u001b[0m",
      "\u001b[0;32m~/MyProjects/VideoClassification-TF-ObjectDetectionAPI/env/lib/python3.7/site-packages/util/preprocessing.py\u001b[0m in \u001b[0;36mextractVideoFrames\u001b[0;34m(**kwargs)\u001b[0m\n\u001b[1;32m     36\u001b[0m \u001b[0;34m\u001b[0m\u001b[0m\n\u001b[1;32m     37\u001b[0m             \u001b[0;31m# writing the extracted images\u001b[0m\u001b[0;34m\u001b[0m\u001b[0;34m\u001b[0m\u001b[0;34m\u001b[0m\u001b[0m\n\u001b[0;32m---> 38\u001b[0;31m             \u001b[0mcv2\u001b[0m\u001b[0;34m.\u001b[0m\u001b[0mimwrite\u001b[0m\u001b[0;34m(\u001b[0m\u001b[0mname\u001b[0m\u001b[0;34m,\u001b[0m \u001b[0mframe\u001b[0m\u001b[0;34m)\u001b[0m\u001b[0;34m\u001b[0m\u001b[0;34m\u001b[0m\u001b[0m\n\u001b[0m\u001b[1;32m     39\u001b[0m \u001b[0;34m\u001b[0m\u001b[0m\n\u001b[1;32m     40\u001b[0m             \u001b[0;31m# increasing counter so that it will\u001b[0m\u001b[0;34m\u001b[0m\u001b[0;34m\u001b[0m\u001b[0;34m\u001b[0m\u001b[0m\n",
      "\u001b[0;31mKeyboardInterrupt\u001b[0m: "
     ]
    }
   ],
   "source": [
    "preprocessing.extractVideoFrames(filename=file_name,output_folder=output_dir)\n"
   ]
  },
  {
   "cell_type": "code",
   "execution_count": null,
   "metadata": {},
   "outputs": [],
   "source": []
  },
  {
   "cell_type": "code",
   "execution_count": null,
   "metadata": {},
   "outputs": [],
   "source": []
  }
 ],
 "metadata": {
  "kernelspec": {
   "display_name": "Python 3",
   "language": "python",
   "name": "python3"
  },
  "language_info": {
   "codemirror_mode": {
    "name": "ipython",
    "version": 3
   },
   "file_extension": ".py",
   "mimetype": "text/x-python",
   "name": "python",
   "nbconvert_exporter": "python",
   "pygments_lexer": "ipython3",
   "version": "3.7.3"
  }
 },
 "nbformat": 4,
 "nbformat_minor": 4
}
